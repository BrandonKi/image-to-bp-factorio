{
 "cells": [
  {
   "cell_type": "code",
   "execution_count": 6,
   "metadata": {},
   "outputs": [],
   "source": [
    "from zlib import *\n",
    "from base64 import *\n",
    "from json import *"
   ]
  },
  {
   "cell_type": "code",
   "execution_count": null,
   "metadata": {},
   "outputs": [],
   "source": [
    "# use this to inspect the contents of a bp string\n",
    "blueprint_string = \"\"\"0eNpdjjEOwjAUQ+/iOR1SQRJyFcTQli/4ok2i5hdRVbk7pCyI0bb87A39uFCaOQj8Bh5iyPDnDZlvoRurJ2sieLDQBIXQTVVliYGafubhgaLA4UoveF0uCsIjfRkpZhaOoVI+aautwgrfaGPLHyl1ckdt7zP+55XCk+a8U1qnD/bUWmOOzjhXyhuiij1X\"\"\"\n",
    "blueprint_json = loads(decompress(b64decode(bytes(blueprint_string[1:], 'utf-8'))))\n",
    "print(dumps(blueprint_json, indent=4))"
   ]
  },
  {
   "cell_type": "code",
   "execution_count": null,
   "metadata": {},
   "outputs": [],
   "source": [
    "# converts an input image to the pallete that is availible in the factorio map \n",
    "import PIL.Image as im\n",
    "import numpy as np\n",
    "\n",
    "pallette = np.array([[41, 40, 41], [49, 49, 41], [58, 61, 58], [82, 81, 74], [107, 109, 107], [181, 142, 33], [115, 93, 25]])\n",
    "\n",
    "image = im.open('path/to/input/file/here').convert('RGB')\n",
    "image.show()\n",
    "picture = np.array(image)\n",
    "print(picture.shape)\n",
    "new_image = np.empty_like(picture)\n",
    "\n",
    "for i in range(0, picture.shape[0]):\n",
    "    row = picture[i]\n",
    "    for x in range(0, picture.shape[1]):\n",
    "        p = row[x]\n",
    "        closest = pallette[0]\n",
    "        smallest_distance = ((pallette[0][0]-p[0])**2 + (pallette[0][1]-p[1])**2 + (pallette[0][2]-p[2])**2)\n",
    "        for color in pallette:\n",
    "            dist = ((color[0]-p[0])**2 + (color[1]-p[1])**2 + (color[2]-p[2])**2)\n",
    "            if dist < smallest_distance:\n",
    "                closest = color\n",
    "                smallest_distance = dist\n",
    "        new_image[i][x] = closest\n",
    "\n",
    "final = im.fromarray(new_image)\n",
    "final.show()\n",
    "final.save('path/to/output/file/here')"
   ]
  },
  {
   "cell_type": "code",
   "execution_count": null,
   "metadata": {},
   "outputs": [],
   "source": [
    "# generate the bp string from the converted image\n",
    "convert = {(41, 40, 41): 'kr-black-reinforced-plate', (49, 49, 41): 'refined-concrete', (58, 61, 58): 'concrete', (82, 81, 74): 'stone-path', (107, 109, 107): 'kr-white-reinforced-plate', (181, 142, 33): 'hazard-concrete-left', (115, 93, 25): 'refined-hazard-concrete-left'}\n",
    "result = {\"blueprint\": {\"icons\": [{\"signal\": {\"type\": \"item\", \"name\": \"stone-brick\"}, \"index\": 1}], \"tiles\":[], \"item\":\"blueprint\", \"version\": 281479276658688}}\n",
    "for i in range(0, new_image.shape[0]):\n",
    "    row = new_image[i]\n",
    "    for x in range(0, new_image.shape[1]):\n",
    "        p = row[x]\n",
    "        result[\"blueprint\"][\"tiles\"].append({\"position\":{\"x\":x, \"y\":i}, \"name\": convert[tuple(p)]})\n",
    "\n",
    "# print(dumps(result, indent=4))\n",
    "print('0', repr(b64encode(compress(bytes(dumps(result), 'utf-8'), 9)))[2:-1], sep='')"
   ]
  }
 ],
 "metadata": {
  "kernelspec": {
   "display_name": "Python 3",
   "language": "python",
   "name": "python3"
  },
  "language_info": {
   "codemirror_mode": {
    "name": "ipython",
    "version": 3
   },
   "file_extension": ".py",
   "mimetype": "text/x-python",
   "name": "python",
   "nbconvert_exporter": "python",
   "pygments_lexer": "ipython3",
   "version": "3.11.2"
  },
  "orig_nbformat": 4
 },
 "nbformat": 4,
 "nbformat_minor": 2
}
